{
 "cells": [
  {
   "cell_type": "markdown",
   "metadata": {},
   "source": [
    "# Python Insights - Analisando Dados com Python\n",
    "\n",
    "### Case - Cancelamento de Clientes\n",
    "\n",
    "Você foi contratado por uma empresa com mais de 800 mil clientes para um projeto de Dados. Recentemente a empresa percebeu que da sua base total de clientes, a maioria são clientes inativos, ou seja, que já cancelaram o serviço.\n",
    "\n",
    "Precisando melhorar seus resultados ela quer conseguir entender os principais motivos desses cancelamentos e quais as ações mais eficientes para reduzir esse número.\n",
    "\n",
    "Base de dados e arquivos: https://drive.google.com/drive/folders/1uDesZePdkhiraJmiyeZ-w5tfc8XsNYFZ?usp=drive_link"
   ]
  },
  {
   "cell_type": "code",
   "execution_count": null,
   "metadata": {},
   "outputs": [],
   "source": [
    "# Passo a Passo\n",
    "# Passo 1: Importar a base de dados\n",
    "import pandas as pd\n",
    "\n",
    "tabela = pd.read_csv('cancelamentos_sample.csv')\n",
    "# Passo 2: Visualizar a base de dados\n",
    "    # entender o que tem na base de dados\n",
    "    # encontraras cagadas da base de dados\n",
    "\n",
    "# colunas inuteis - informação que não te ajuda, te atrapalha\n",
    "# tirar a coluna de CustomerID\n",
    "\n",
    "tabela = tabela.drop(columns='CustomerID')\n",
    "display(tabela)\n"
   ]
  },
  {
   "cell_type": "code",
   "execution_count": null,
   "metadata": {},
   "outputs": [],
   "source": [
    "\n",
    "tabela = pd.read_csv('cancelamentos_sample.csv')\n",
    "# Passo 2: Visualizar a base de dados\n",
    "    # entender o que tem na base de dados\n",
    "    # encontraras cagadas da base de dados\n",
    "\n",
    "# colunas inuteis - informação que não te ajuda, te atrapalha\n",
    "# tirar a coluna de CustomerID\n",
    "\n",
    "tabela = tabela.drop(columns='CustomerID')\n",
    "display(tabela)\n"
   ]
  },
  {
   "cell_type": "code",
   "execution_count": null,
   "metadata": {},
   "outputs": [],
   "source": [
    "# Passo 3: Tratamento de Dados -> Corrigir as cagadas da base de dados\n",
    "# informações no formato errado\n",
    "\n",
    "display(tabela.info())\n",
    "    #Analisar tipos de dados e conferir se estão corretos\n",
    "\n",
    "# valores vazios \n",
    "    # Como temos poucos valoresvazios, então vamos excluir as linhas que têm valores vazios\n",
    "    # Se tivessimos muitos valores vazios, poderiamos usar a função tabela.fillna([valor a ser colocado no lugar de null])\n",
    "tabela = tabela.dropna()\n",
    "\n",
    "display(tabela.info())\n"
   ]
  },
  {
   "cell_type": "code",
   "execution_count": null,
   "metadata": {},
   "outputs": [],
   "source": [
    "# Passo 4: Análise Inicial dos cancelamentos\n",
    "    # Contando o número de cancelamentos e de clientes ativos\n",
    "display(tabela['cancelou'].value_counts())\n",
    "\n",
    "    # Para obter o percentual, basta adicionar o paramêtro normalize=True\n",
    "display(tabela['cancelou'].value_counts(normalize=True))\n",
    "\n",
    "    # Para formatar\n",
    "display(tabela['cancelou'].value_counts(normalize=True).map('{:.2%}'.format))\n"
   ]
  },
  {
   "cell_type": "code",
   "execution_count": null,
   "metadata": {},
   "outputs": [],
   "source": [
    "# Passo 5: Análise de causas do cancelamento do clientes\n",
    "import plotly.express as px\n",
    "\n",
    "\n",
    "for coluna in tabela.columns:\n",
    "\n",
    "    # Cria o grafico\n",
    "    grafico = px.histogram(tabela, x=coluna, color='cancelou')\n",
    "\n",
    "    # Exibe o grafico\n",
    "    grafico.show()\n"
   ]
  },
  {
   "cell_type": "code",
   "execution_count": null,
   "metadata": {},
   "outputs": [],
   "source": [
    "# Todos os clientesque ligaram mais de 4 vezes cancelaram\n",
    "    # Criar um processo interno pra resolver problemas dos clientes em no máximo 3 ligações\n",
    "# Todos os clientes que atrasaram mais que 20 dias cancelaram\n",
    "    # Criar um proesso interno pra ligar um alerta quando um cliente atrasar mais de 10 dias\n",
    "# Todos os clientes de contrato mensal, cancelaram\n",
    "    # Oferecer um desconto no contrato anual/trimestral\n",
    "\n",
    "#  Filtrar uma base de dados\n",
    "\n",
    "# Se eu resolver o call center, pra quanto cai o cancelamento?\n",
    "filtro = tabela['ligacoes_callcenter']<=4\n",
    "tabela = tabela[filtro]\n",
    "\n",
    "# E o atraso?\n",
    "filtro = tabela['dias_atraso']<=20\n",
    "tabela = tabela[filtro]\n",
    "\n",
    "# E o contrato mensall?\n",
    "filtro = tabela['duracao_contrato']!='Monthly'\n",
    "tabela = tabela[filtro]\n",
    "\n",
    "display(tabela['cancelou'].value_counts(normalize=True))\n"
   ]
  }
 ],
 "metadata": {
  "kernelspec": {
   "display_name": "base",
   "language": "python",
   "name": "python3"
  },
  "language_info": {
   "codemirror_mode": {
    "name": "ipython",
    "version": 3
   },
   "file_extension": ".py",
   "mimetype": "text/x-python",
   "name": "python",
   "nbconvert_exporter": "python",
   "pygments_lexer": "ipython3",
   "version": "3.12.4"
  },
  "orig_nbformat": 4
 },
 "nbformat": 4,
 "nbformat_minor": 2
}
